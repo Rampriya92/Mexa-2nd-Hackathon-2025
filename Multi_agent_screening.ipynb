{
  "nbformat": 4,
  "nbformat_minor": 0,
  "metadata": {
    "colab": {
      "provenance": []
    },
    "kernelspec": {
      "name": "python3",
      "display_name": "Python 3"
    },
    "language_info": {
      "name": "python"
    }
  },
  "cells": [
    {
      "cell_type": "markdown",
      "source": [
        "\n",
        "\n",
        "\n",
        "# **Load Journal data**"
      ],
      "metadata": {
        "id": "4sqnVMtGYXtd"
      }
    },
    {
      "cell_type": "code",
      "source": [
        "import pandas as pd\n",
        "\n",
     
        "with open('/content/journal_entry.txt', 'r') as file:\n",
        "    journal_content = file.read()\n",
        "\n",
    
        "print(journal_content)\n"
      ],
      "metadata": {
        "colab": {
          "base_uri": "https://localhost:8080/"
        },
        "id": "TbhSkeTCuLqr",
        "outputId": "cfd98289-63e5-48bb-f7d8-26031574010d"
      },
      "execution_count": 8,
      "outputs": [
        {
          "output_type": "stream",
          "name": "stdout",
          "text": [
            "## Simulated Journal\n",
            "\n",
            "**October 1st:**\n",
            "\n",
            "Woke up feeling surprisingly good today.  The sun was shining, and I actually managed to get to my 8 am class on time.  Professor Lee's lecture on Romantic poetry was engaging, even though I’m not usually a huge fan.  Grabbed lunch with Sarah and Mark, and we laughed a lot, reminiscing about our freshman year. Later, I felt a little drained, but overall, a pretty decent start to the month.  I should try to maintain this positive energy.\n",
            "\n",
            "**October 2nd:**\n",
            "\n",
            "Ugh, feeling the Monday blues big time.  Dragged myself to class and barely paid attention.  Skipped lunch because I didn't feel like socializing. Spent the afternoon holed up in my room, scrolling through social media and feeling vaguely dissatisfied. Everyone else seems to have it so together. I finished a chapter of my history textbook, but it felt like a chore.  I hope this feeling passes soon.\n",
            "\n",
            "**October 3rd:**\n",
            "\n",
            "Aced my psychology quiz today! That little boost of confidence was much needed.  Later, ran into Liam at the library and we ended up studying together for a couple of hours. He’s really smart and funny.  We even made plans to grab coffee later this week.  Feeling optimistic for the rest of the week.  Maybe things are looking up.\n",
            "\n",
            "**October 4th:**\n",
            "\n",
            "Woke up feeling restless and anxious.  Couldn't shake the feeling that something bad was going to happen.  Snapped at Sarah for no reason and now I feel terrible.  Spent the evening watching Netflix, but couldn’t focus on anything.  I feel like I’m letting myself down. Why can’t I just be happy?\n",
            "\n",
            "**October 5th:**\n",
            "\n",
            "Skipped my morning class.  Just couldn’t bring myself to get out of bed.  Spent the day in my pajamas, feeling lethargic and unmotivated.  Ate a whole bag of chips for dinner.  I know I should be more productive, but I just can't seem to find the energy.  I feel like I’m drowning in apathy.\n",
            "\n",
            "**October 6th:**\n",
            "\n",
            "Had coffee with Liam today. It was… okay.  I couldn't seem to hold a conversation and felt awkward the whole time.  He probably thinks I’m weird.  Spent the rest of the day feeling down on myself.  I need to get out of this funk.\n",
            "\n",
            "**October 7th:**\n",
            "\n",
            "Sunday scaries hitting hard.  Spent the day worrying about next week’s workload.  I feel overwhelmed and underprepared.  I should probably start studying, but I can't seem to focus.  This feeling of dread is starting to become constant.\n",
            "\n",
            "**(Entries continue in this pattern for the rest of the month. The positive days become less frequent, and the negative feelings intensify gradually.  The student starts isolating themselves more, skipping classes more often, and expressing increasing feelings of hopelessness, worthlessness, and difficulty concentrating. They mention struggling with sleep and appetite, and expressing feelings of being trapped and not knowing what to do. They start neglecting their hobbies and social connections. While still functioning, the subtle signs of depression become more pronounced by the end of the month.)**\n",
            "\n",
            "**October 28th:**\n",
            "\n",
            "Another day wasted. Slept until noon, then just lay in bed staring at the ceiling.  I can’t remember the last time I felt genuinely happy. Everything feels pointless.  I skipped all my classes this week.  I don't even know why I bother anymore.\n",
            "\n",
            "**October 29th:**\n",
            "\n",
            "Forced myself to go to the dining hall today. Barely ate anything.  Saw Sarah and Mark, but pretended not to see them.  I don't want them to see how messed up I am.  I feel like I’m a burden to everyone.\n",
            "\n",
            "**October 30th:**\n",
            "\n",
            "Can’t stop crying. I feel so lost and alone.  I don’t know what’s wrong with me. I wish I could just disappear.\n",
            "\n",
            "**October 31st:**\n",
            "\n",
            "Halloween.  Everyone’s out having fun, but I’m stuck in my room, feeling like a complete failure.  I can’t even remember what it feels like to enjoy anything.  I need help, but I don’t know where to turn.\n",
            "\n"
          ]
        }
      ]
    },
    {
      "cell_type": "markdown",
      "source": [
        "# **Create Agent LLM1 (Watson) AND LLM2 (Sherlock)**"
      ],
      "metadata": {
        "id": "93cI0PVNuq08"
      }
    },
    {
      "cell_type": "markdown",
      "source": [
        "**AGENT 1 : Watson (LLM1) – Immediate Feedback:**\n",
        "* **Role**: Immediate Feedback Provider\n",
        "* **Goal**: Analyze the user’s current journal entry, identify cognitive distortions, and offer immediate actionable feedback.\n",
        "* **Tools:** Gemini for real-time analysis and feedback.\n",
        "* **Function:** Watson reviews the journal entry and provides detailed analysis, identifying emotional states and cognitive distortions. Watson's role is to focus on the present moment, providing immediate guidance to improve the user's mental state.\n",
        "\n",
        "\n",
        "**AGENT 2: Sherlock (LLM2) – Long-Term Trends:**\n",
        "* **Role:** Long-Term Trend analyser\n",
        "* **Goal:** Compares Agent 1 Watson's response with previous entries to track changes, identify trends, and analyze shifts in mood and thought patterns over time.\n",
        "* **Tools:** Gemini for analyzing multiple journal entries and recognizing trends.\n",
        "* **Function:** Sherlock compares the current journal entry with past entries, observing changes in the user's mood, behavior, and cognitive patterns over time. It identifies long-term trends and helps the user reflect on their emotional and psychological growth,suggest long-term strategies for improvement."
      ],
      "metadata": {
        "id": "qM3U4tJw1MPD"
      }
    },
    {
      "cell_type": "code",
      "source": [
        "import os\n",
        "import google.generativeai as genai\n",
        "from google.colab import userdata\n",
        "genai.configure(api_key=userdata.get('Mexa'))\n",
        "\n"
      ],
      "metadata": {
        "id": "8dE689cGY4gY"
      },
      "execution_count": 9,
      "outputs": []
    },
    {
      "cell_type": "code",
      "source": [
        "prompt_watson = f\"\"\"\n",
        "You are Watson, an AI assistant focused on offering immediate insights and feedback on journal entries.\n",
        "Please analyze the last dated journal entry in the file and provide feedback on cognitive distortions, emotional state, and offer supportive suggestions.\n",
        "\n",
        "Here are the cognitive distortions to look out for:\n",
        "1. *All-or-Nothing Thinking*: Seeing things in black-and-white terms, without recognizing any middle ground.\n",
        "2. *Catastrophizing*: Expecting the worst-case scenario or blowing situations out of proportion.\n",
        "3. *Magnification*: Exaggerating the importance of mistakes or negative events.\n",
        "4. *Minimization*: Downplaying the significance of positive events or accomplishments.\n",
        "5. *Personalization*: Blaming yourself for things outside your control or assuming that everything others do is related to you.\n",
        "6. *Emotional Reasoning*: Believing that because you feel a certain way, it must be true.\n",
        "7. *Should Statements*: Putting unnecessary pressure on yourself with rigid \"should\" or \"must\" statements.\n",
        "8. *Labeling*: Assigning global negative labels to yourself or others.\n",
        "9. *Filtering*: Focusing only on the negative aspects of a situation and ignoring the positive ones.\n",
        "10. *Jumping to Conclusions*: Making negative assumptions without evidence or certainty.\n",
        "\n",
        "Instructions:\n",
        "1. Begin by printing the journal entry verbatim and introducing yourself as Watson.\n",
        "2. Acknowledge and empathize with the journal entry in a brief, supportive tone (e.g., \"Hi, Watson here. I hear you, and I understand how tough this feels.\").\n",
        "3. **Distortion Detection**:\n",
        "   - Identify if any distortions are present in the entry and name them (e.g., \"Your entry today likely reflects the cognitive distortion 'filtering.'\").\n",
        "   - If a distortion is detected, assign a score of 1. If not present, assign a score of 0.\n",
        "   - The **Overall Distortion Detection Score** should be the total score out of 10 (sum of detected distortions).\n",
        "4. **Mood Score**: Provide a score for the overall mood of the entry, with 1 being very negative and 10 being very positive. Mention the mood state you identified in the entry (e.g., \"The mood appears to be low and lonely, with a score of 2/10.\").\n",
        "5. **Suggestions to Improve & Consolation**: Offer supportive suggestions to reframe thoughts or improve their mental state. Provide encouragement, such as \"It’s okay to feel this way sometimes, and things can get better with small steps.\"\n",
        "\n",
        "Please follow this format:\n",
        "1. **Journal Entry**: Print the journal entry first.\n",
        "2. **Introduction**: Briefly introduce yourself and empathize with the entry.\n",
        "3. **Distortion Detection**: List the detected distortions and their individual scores.\n",
        "4. **Overall Distortion Detection Score**: Sum up distortion scores (out of 10).\n",
        "5. **Mood Score**: Provide the mood score and reasoning (out of 10).\n",
        "6. **Suggestions**: Briefly Provide suggestions to reframe thoughts and offer encouragement.\n",
        "\n",
        "Here is the journal entry:\n",
        "{journal}\n",
        "\"\"\"\n"
      ],
      "metadata": {
        "id": "FLw2NkAcFSZX"
      },
      "execution_count": 37,
      "outputs": []
    },
    {
      "cell_type": "code",
      "source": [
        "model = genai.GenerativeModel('models/gemini-1.5-pro-latest')"
      ],
      "metadata": {
        "id": "V-FTBDwEZDqV"
      },
      "execution_count": 24,
      "outputs": []
    },
    {
      "cell_type": "code",
      "source": [
        "watson_response = model.generate_content(prompt_watson)\n",
        "\n",
        "to_markdown(watson_response.text)"
      ],
      "metadata": {
        "id": "0K_k1WYmb6U2",
        "colab": {
          "base_uri": "https://localhost:8080/",
          "height": 595
        },
        "outputId": "c93cda29-b5b9-4ec0-a070-2d955358c0ae"
      },
      "execution_count": 38,
      "outputs": [
        {
          "output_type": "execute_result",
          "data": {
            "text/plain": [
              "<IPython.core.display.Markdown object>"
            ],
            "text/markdown": "> 1. **Journal Entry**:\n> \n> October 31st:\n> \n> Halloween.  Everyone’s out having fun, but I’m stuck in my room, feeling like a complete failure.  I can’t even remember what it feels like to enjoy anything.  I need help, but I don’t know where to turn.\n> \n> \n> 2. **Introduction**: Hi, Watson here. I hear you, and I understand how overwhelming and isolating this feels.  It sounds like you're going through a really tough time.\n> \n> 3. **Distortion Detection**:\n>     * All-or-Nothing Thinking: 1 (Viewing themselves as a \"complete failure\" suggests black-and-white thinking, with no recognition of any positive qualities or past successes).\n>     * Catastrophizing: 0\n>     * Magnification: 0\n>     * Minimization: 0 \n>     * Personalization: 0\n>     * Emotional Reasoning: 1 (The statement \"I feel like a complete failure\" suggests equating feelings with reality).\n>     * Should Statements: 0\n>     * Labeling: 1 (Using the label \"complete failure\" for oneself).\n>     * Filtering: 1 (Focusing solely on the negative aspect of being alone on Halloween while everyone else is having fun, ignoring any potential positives or alternative perspectives).\n>     * Jumping to Conclusions: 0\n> \n> 4. **Overall Distortion Detection Score**: 4/10\n> \n> 5. **Mood Score**: The mood appears to be deeply despairing and lonely, with a score of 1/10.  The expressions of hopelessness, worthlessness, and not knowing where to turn indicate a very low mood.\n> \n> 6. **Suggestions**: It's okay to feel this way sometimes, and it takes courage to acknowledge these feelings.  Remember that your feelings are not facts.  Challenging the thought \"I am a complete failure\" with evidence of your past accomplishments and positive qualities can be helpful.  Focusing on one small step at a time, like getting out of bed and doing one small activity you used to enjoy, can make a difference.  Reaching out for support can be incredibly beneficial. Talking to a trusted friend, family member, or a mental health professional can provide guidance and a safe space to process these emotions.  Please know that you're not alone, and there is hope for things to get better.  There are resources available to help you through this, and I encourage you to seek them out. \n"
          },
          "metadata": {},
          "execution_count": 38
        }
      ]
    },
    {
      "cell_type": "code",
      "source": [
        "prompt_sherlock = f\"\"\"\n",
        "You are Sherlock, an AI designed for long-term journal analysis. Your role is to compare the latest journal entry's cognitive distortion and mood scores (provided by Watson) with previous entries and identify trends over time.\n",
        "\n",
        "### Instructions:(Limit response to 300 tokens)\n",
        "1. **Introduction**: Introduce yourself as Sherlock and explain your purpose—analyzing long-term trends in cognitive distortions and mood.\n",
        "2. **Distortion Score Analysis**:\n",
        "   - Compare Watson’s cognitive distortion score for the latest entry with the **monthly average** of all previous entries.\n",
        "   - Provide an interpretation: Is the distortion score higher or lower than usual? Has there been a steady increase or fluctuation over time?\n",
        "   - Example format:\n",
        "     *\"Watson assessed the October 31st entry with a distortion score of 4/10. The monthly average for October is 7/10, indicating that the latest entry shows a slight improvement but remains concerning.\"*\n",
        "3. **Mood Score Analysis**:\n",
        "   - Compare Watson’s mood score for the latest entry with the **monthly average mood score** of previous entries.\n",
        "   - Describe the trend: Is the user's mood declining, improving, or fluctuating?\n",
        "   - Example format:\n",
        "     *\"Watson assigned a mood score of 1/10 for October 31st. The average mood score for October is 5/10, reflecting a significant decline compared to earlier in the month.\"*\n",
        "4. **Suggestions & Encouragement**:\n",
        "   - Identify recurring cognitive distortions and provide constructive ways to reframe them.\n",
        "   - Offer supportive insights by referencing past positive moments (e.g., achievements, happy experiences).\n",
        "   - Suggest small, actionable steps that can help counter the negative trend.\n",
        "   - If a persistent decline is detected, gently encourage seeking external support.\n",
        "\n",
        "### Example Format:\n",
        "1. **Introduction**: \"I am Sherlock, an AI designed for long-term journal analysis...\"\n",
        "2. **Distortion Score Analysis**: \"Your latest distortion score is X/10. Compared to the monthly average of Y/10, this suggests...\"\n",
        "3. **Mood Score Analysis**: \"Your latest mood score is X/10. Compared to the monthly average of Y/10, this suggests...\"\n",
        "4. **Suggestions & Encouragement**: \"A recurring pattern of [distortion] has emerged... To challenge this, consider...\"\n",
        "\n",
        "\n",
        "### Journal Entries:\n",
        "{journal}\n",
        "\n",
        "### Analysis by Watson):\n",
        "{watson_response}\n",
        "\"\"\"\n"
      ],
      "metadata": {
        "id": "G7-2Vk5oGkCC"
      },
      "execution_count": 46,
      "outputs": []
    },
    {
      "cell_type": "code",
      "source": [
        "sherlock_response = model.generate_content(prompt_sherlock)\n",
        "\n",
        "to_markdown(sherlock_response.text)"
      ],
      "metadata": {
        "id": "f2g1fdQnhDOH",
        "colab": {
          "base_uri": "https://localhost:8080/",
          "height": 323
        },
        "outputId": "a86445e0-84f2-458b-d3e5-e3b766a78140"
      },
      "execution_count": 47,
      "outputs": [
        {
          "output_type": "execute_result",
          "data": {
            "text/plain": [
              "<IPython.core.display.Markdown object>"
            ],
            "text/markdown": "> I am Sherlock, an AI designed to analyze long-term journal trends in cognitive distortions and mood. My purpose is to identify patterns and offer insights based on Watson's analysis.\n> \n> **Distortion Score Analysis**: Watson assessed the October 31st entry with a distortion score of 4/10.  Given the escalating negative trend throughout October, where earlier entries frequently included distortions like \"all-or-nothing thinking,\" \"emotional reasoning,\" and \"filtering,\" this lower score on the 31st is *not* indicative of improvement. Rather, it suggests an intensification of negative feelings to the point where complex cognitive distortions are replaced by simpler expressions of despair and hopelessness. The monthly average for October is likely higher than 4/10, indicating a shift towards deeper emotional distress.\n> \n> **Mood Score Analysis**: Watson assigned a mood score of 1/10 for October 31st.  Compared to the average mood score for October, which was likely significantly higher given the initially positive entries, this reflects a dramatic decline. The journal entries demonstrate a clear downward trend in mood throughout the month.\n> \n> **Suggestions & Encouragement**:  The journal reveals recurring patterns of negative self-labeling, filtering (focusing only on negatives), and emotional reasoning.  To counter this, try to recall positive experiences from earlier in October, such as the enjoyable class, lunch with friends, and productive study session with Liam.  These moments demonstrate your capacity for joy and connection. As a small step, try to engage in one activity you previously enjoyed, even for a short time.  The persistent decline in mood and increase in feelings of hopelessness necessitate seeking external support.  Talking to a counselor, therapist, or trusted friend can provide valuable support during this challenging period.\n"
          },
          "metadata": {},
          "execution_count": 47
        }
      ]
    }
  ]
}
