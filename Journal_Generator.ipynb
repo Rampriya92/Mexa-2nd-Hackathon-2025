{
  "nbformat": 4,
  "nbformat_minor": 0,
  "metadata": {
    "colab": {
      "private_outputs": true,
      "provenance": []
    },
    "kernelspec": {
      "name": "python3",
      "display_name": "Python 3"
    },
    "language_info": {
      "name": "python"
    }
  },
  "cells": [
    {
      "cell_type": "markdown",
      "source": [
        "# **Simulate Journal**"
      ],
      "metadata": {
        "id": "4sqnVMtGYXtd"
      }
    },
    {
      "cell_type": "code",
      "source": [
        "import os\n",
        "import google.generativeai as genai\n",
        "from google.colab import userdata\n",
        "genai.configure(api_key=userdata.get('Mexa'))\n",
        "\n"
      ],
      "metadata": {
        "id": "8dE689cGY4gY"
      },
      "execution_count": null,
      "outputs": []
    },
    {
      "cell_type": "code",
      "source": [
        "for m in genai.list_models():\n",
        "  if 'generateContent' in m.supported_generation_methods:\n",
        "    print(m.name)"
      ],
      "metadata": {
        "id": "tu9LfJnRbWnL"
      },
      "execution_count": null,
      "outputs": []
    },
    {
      "cell_type": "code",
      "source": [
        "model = genai.GenerativeModel('models/gemini-1.5-pro-latest')"
      ],
      "metadata": {
        "id": "V-FTBDwEZDqV"
      },
      "execution_count": null,
      "outputs": []
    },
    {
      "cell_type": "code",
      "source": [
        "import pathlib\n",
        "import textwrap\n",
        "\n",
        "import google.generativeai as genai\n",
        "\n",
        "from IPython.display import display\n",
        "from IPython.display import Markdown\n",
        "\n",
        "def to_markdown(text):\n",
        "  text = text.replace('•', '  *')\n",
        "  return Markdown(textwrap.indent(text, '> ', predicate=lambda _: True))\n",
        "\n",
        "config = genai.GenerationConfig(\n",
        "    max_output_tokens=2048, temperature=0.0\n",
        ")"
      ],
      "metadata": {
        "id": "OeI50_fKhfb8"
      },
      "execution_count": null,
      "outputs": []
    },
    {
      "cell_type": "code",
      "source": [
        "prompt = f\"\"\"\n",
        "Generate a month-long simulated journal for a 20-year-old college student who is experiencing mood variations and subtle early signs of depression.\n",
        "Each journal entry should:\n",
        "- Be written in a first-person, introspective tone.\n",
        "- Include the date and a detailed account of the student's day.\n",
        "- Highlight their thoughts, feelings, and specific events or interactions that affected their mood.\n",
        "- Show a mix of both positive and negative experiences across the month, with a gradual shift toward mild depressive symptoms (e.g., low energy, isolation, overthinking).\n",
        "- Contain at least five meaningful sentences per entry.\n",
        "\n",
        "Make the entries feel authentic and relatable, with enough variation in their daily mood while the student reflect on their challenges, achievements, and social interactions.\n",
        "\"\"\"\n",
        "\n",
        "\n",
        "response = model.generate_content(prompt)\n",
        "\n",
        "to_markdown(response.text)"
      ],
      "metadata": {
        "id": "0K_k1WYmb6U2"
      },
      "execution_count": null,
      "outputs": []
    },
    {
      "cell_type": "code",
      "source": [
        "journal=response.text\n",
        "with open('journal_entry.txt', 'w') as file:\n",
        "    file.write(journal)\n"
      ],
      "metadata": {
        "id": "f2g1fdQnhDOH"
      },
      "execution_count": null,
      "outputs": []
    }
  ]
}